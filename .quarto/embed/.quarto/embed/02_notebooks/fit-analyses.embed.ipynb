{
  "cells": [
    {
      "cell_type": "markdown",
      "metadata": {},
      "source": [
        "# Fit Analyses\n",
        "\n",
        "Jeroen E. Timmerman\n",
        "[![](data:image/png;base64,iVBORw0KGgoAAAANSUhEUgAAABAAAAAQCAYAAAAf8/9hAAAAGXRFWHRTb2Z0d2FyZQBBZG9iZSBJbWFnZVJlYWR5ccllPAAAA2ZpVFh0WE1MOmNvbS5hZG9iZS54bXAAAAAAADw/eHBhY2tldCBiZWdpbj0i77u/IiBpZD0iVzVNME1wQ2VoaUh6cmVTek5UY3prYzlkIj8+IDx4OnhtcG1ldGEgeG1sbnM6eD0iYWRvYmU6bnM6bWV0YS8iIHg6eG1wdGs9IkFkb2JlIFhNUCBDb3JlIDUuMC1jMDYwIDYxLjEzNDc3NywgMjAxMC8wMi8xMi0xNzozMjowMCAgICAgICAgIj4gPHJkZjpSREYgeG1sbnM6cmRmPSJodHRwOi8vd3d3LnczLm9yZy8xOTk5LzAyLzIyLXJkZi1zeW50YXgtbnMjIj4gPHJkZjpEZXNjcmlwdGlvbiByZGY6YWJvdXQ9IiIgeG1sbnM6eG1wTU09Imh0dHA6Ly9ucy5hZG9iZS5jb20veGFwLzEuMC9tbS8iIHhtbG5zOnN0UmVmPSJodHRwOi8vbnMuYWRvYmUuY29tL3hhcC8xLjAvc1R5cGUvUmVzb3VyY2VSZWYjIiB4bWxuczp4bXA9Imh0dHA6Ly9ucy5hZG9iZS5jb20veGFwLzEuMC8iIHhtcE1NOk9yaWdpbmFsRG9jdW1lbnRJRD0ieG1wLmRpZDo1N0NEMjA4MDI1MjA2ODExOTk0QzkzNTEzRjZEQTg1NyIgeG1wTU06RG9jdW1lbnRJRD0ieG1wLmRpZDozM0NDOEJGNEZGNTcxMUUxODdBOEVCODg2RjdCQ0QwOSIgeG1wTU06SW5zdGFuY2VJRD0ieG1wLmlpZDozM0NDOEJGM0ZGNTcxMUUxODdBOEVCODg2RjdCQ0QwOSIgeG1wOkNyZWF0b3JUb29sPSJBZG9iZSBQaG90b3Nob3AgQ1M1IE1hY2ludG9zaCI+IDx4bXBNTTpEZXJpdmVkRnJvbSBzdFJlZjppbnN0YW5jZUlEPSJ4bXAuaWlkOkZDN0YxMTc0MDcyMDY4MTE5NUZFRDc5MUM2MUUwNEREIiBzdFJlZjpkb2N1bWVudElEPSJ4bXAuZGlkOjU3Q0QyMDgwMjUyMDY4MTE5OTRDOTM1MTNGNkRBODU3Ii8+IDwvcmRmOkRlc2NyaXB0aW9uPiA8L3JkZjpSREY+IDwveDp4bXBtZXRhPiA8P3hwYWNrZXQgZW5kPSJyIj8+84NovQAAAR1JREFUeNpiZEADy85ZJgCpeCB2QJM6AMQLo4yOL0AWZETSqACk1gOxAQN+cAGIA4EGPQBxmJA0nwdpjjQ8xqArmczw5tMHXAaALDgP1QMxAGqzAAPxQACqh4ER6uf5MBlkm0X4EGayMfMw/Pr7Bd2gRBZogMFBrv01hisv5jLsv9nLAPIOMnjy8RDDyYctyAbFM2EJbRQw+aAWw/LzVgx7b+cwCHKqMhjJFCBLOzAR6+lXX84xnHjYyqAo5IUizkRCwIENQQckGSDGY4TVgAPEaraQr2a4/24bSuoExcJCfAEJihXkWDj3ZAKy9EJGaEo8T0QSxkjSwORsCAuDQCD+QILmD1A9kECEZgxDaEZhICIzGcIyEyOl2RkgwAAhkmC+eAm0TAAAAABJRU5ErkJggg==)](https://orcid.org/0009-0003-8208-0509)\n",
        "(University of Amsterdam)"
      ],
      "id": "837e668a-3bb8-4969-a5a2-8fc0589ba1b9"
    },
    {
      "cell_type": "code",
      "execution_count": null,
      "metadata": {},
      "outputs": [
        {
          "output_type": "stream",
          "name": "stderr",
          "text": [
            "\n",
            "Attaching package: 'dplyr'"
          ]
        },
        {
          "output_type": "stream",
          "name": "stderr",
          "text": [
            "The following objects are masked from 'package:stats':\n",
            "\n",
            "    filter, lag"
          ]
        },
        {
          "output_type": "stream",
          "name": "stderr",
          "text": [
            "The following objects are masked from 'package:base':\n",
            "\n",
            "    intersect, setdiff, setequal, union"
          ]
        },
        {
          "output_type": "stream",
          "name": "stderr",
          "text": [
            "Warning: package 'BayesFactor' was built under R version 4.4.2"
          ]
        },
        {
          "output_type": "stream",
          "name": "stderr",
          "text": [
            "Loading required package: coda"
          ]
        },
        {
          "output_type": "stream",
          "name": "stderr",
          "text": [
            "Loading required package: Matrix"
          ]
        },
        {
          "output_type": "stream",
          "name": "stderr",
          "text": [
            "************\n",
            "Welcome to BayesFactor 0.9.12-4.7. If you have questions, please contact Richard Morey (richarddmorey@gmail.com).\n",
            "\n",
            "Type BFManual() to open the manual.\n",
            "************"
          ]
        },
        {
          "output_type": "stream",
          "name": "stderr",
          "text": [
            "\n",
            "Attaching package: 'BayesFactor'"
          ]
        },
        {
          "output_type": "stream",
          "name": "stderr",
          "text": [
            "The following object is masked from 'package:EMC2':\n",
            "\n",
            "    compare"
          ]
        }
      ],
      "source": [
        "library(EMC2)\n",
        "library(stringr)\n",
        "library(ggplot2)\n",
        "library(dplyr)"
      ],
      "id": "2103d767-3892-4844-8465-3e515bd8ac02"
    },
    {
      "cell_type": "markdown",
      "metadata": {},
      "source": [
        "# Upper Censoring"
      ],
      "id": "b66524a4-cffb-479c-a7a2-347b6d52b63a"
    },
    {
      "cell_type": "code",
      "execution_count": null,
      "metadata": {},
      "outputs": [],
      "source": [
        "parsLBA <- c(log(2),3,1,log(2),log(.75),log(.2))\n",
        "names(parsLBA) <- c(\"B\", \"v\", \"v_lMd\", \"A\", \"sv_lMd\", \"t0\")\n",
        "parsRDM <- c(log(3),1,.4,log(.75),log(.2))\n",
        "names(parsRDM) <- c(\"B\", \"v\", \"v_lMd\", \"s_lMd\", \"t0\")\n",
        "parsLNR <- c(log(.75),log(.65),log(.5),log(.8),log(.4))\n",
        "names(parsLNR) <- c(\"m\", \"m_lMd\", \"s\", \"s_lMd\", \"t0\")"
      ],
      "id": "74d6859e-a558-41df-a2de-e3505944b53c"
    },
    {
      "cell_type": "code",
      "execution_count": null,
      "metadata": {},
      "outputs": [],
      "source": [
        "file_names <- list.files(\"../01_simulation/upper_censoring/EMCs\")\n",
        "EMCs <- data.frame()\n",
        "for (i in file_names){\n",
        "  load(paste0(\"../01_simulation/upper_censoring/EMCs/\", i))\n",
        "  EMC <- data.frame(EMC = str_remove(i, \".RData\"),\n",
        "                    censoring = str_detect(i, \"sM\"),\n",
        "                    model_name = str_extract(i, \"LBA|LNR|RDM\"),\n",
        "                    percentage = str_extract(i, \"70|90|975\")\n",
        "                    )\n",
        "  EMCs <- rbind(EMCs, EMC)\n",
        "}\n",
        "EMCs <- na.omit(EMCs) # to remove empty sLBA\n",
        "EMCs$censoring <- factor(EMCs$censoring, c(FALSE, TRUE), c(\"Truncated\", \"Censored\"))\n",
        "EMCs$model_name <- factor(EMCs$model_name)\n",
        "EMCs$percentage <- factor(EMCs$percentage, c(975, 90, 70), c(\"2.5%\", \"10%\", \"30%\"))"
      ],
      "id": "d7e0a4b3-1a6e-43e4-99e5-d05ede85ab4c"
    },
    {
      "cell_type": "code",
      "execution_count": null,
      "metadata": {},
      "outputs": [],
      "source": [
        "pars <- list()\n",
        "for (i in 1:nrow(EMCs)) {\n",
        "  pars[[EMCs$EMC[i]]] <- apply(parameters(get(EMCs$EMC[i], envir = globalenv()), selection = \"alpha\")[,-1], 2, function(x) quantile(x, c(0.025, 0.5, 0.975)))\n",
        "  EMCs$RMSE[i] <- sqrt(mean((pars[[EMCs$EMC[i]]][2,] - get(paste0(\"pars\", EMCs$model_name[i]), envir = globalenv()))^2))\n",
        "}"
      ],
      "id": "d7d311b8-8caa-43c8-97cd-fbc84d8a0247"
    },
    {
      "cell_type": "code",
      "execution_count": null,
      "metadata": {},
      "outputs": [
        {
          "output_type": "stream",
          "name": "stdout",
          "text": [
            "\n",
            "    Welch Two Sample t-test\n",
            "\n",
            "data:  RMSE by censoring\n",
            "t = 4.4212, df = 9.1973, p-value = 0.001583\n",
            "alternative hypothesis: true difference in means between group Truncated and group Censored is not equal to 0\n",
            "95 percent confidence interval:\n",
            " 0.359907 1.109093\n",
            "sample estimates:\n",
            "mean in group Truncated  mean in group Censored \n",
            "              0.8440147               0.1095145 "
          ]
        }
      ],
      "source": [
        "frequentist <- t.test(RMSE ~ censoring, data = EMCs)\n",
        "frequentist"
      ],
      "id": "51ec6eae-7319-47b8-93df-7d6303626186"
    },
    {
      "cell_type": "code",
      "execution_count": null,
      "metadata": {},
      "outputs": [
        {
          "output_type": "stream",
          "name": "stdout",
          "text": [
            "Bayes factor analysis\n",
            "--------------\n",
            "[1] Alt., r=0.707 : 58.5073 ±0%\n",
            "\n",
            "Against denominator:\n",
            "  Null, mu1-mu2 = 0 \n",
            "---\n",
            "Bayes factor type: BFindepSample, JZS"
          ]
        }
      ],
      "source": [
        "model <- ttestBF(formula = RMSE ~ censoring, data = EMCs)\n",
        "model"
      ],
      "id": "1047d62f-89dc-429b-ac02-f2cdef50ae84"
    },
    {
      "cell_type": "code",
      "execution_count": null,
      "metadata": {
        "apa-note": "For each model and each level of data missing, the RMSE was computed."
      },
      "outputs": [
        {
          "output_type": "display_data",
          "metadata": {},
          "data": {}
        }
      ],
      "source": [
        "#| label: RMSD_upper\n",
        "#| fig-cap: Root Mean Squared Errors for Upper Censoring in Race Models\n",
        "#| apa-note: For each model and each level of data missing, the RMSE was computed.\n",
        "\n",
        "ggplot(EMCs, aes(censoring, RMSE, fill = interaction(percentage, censoring, sep = \" \"))) +\n",
        "  facet_grid(~ model_name) +\n",
        "  scale_fill_brewer(palette = \"PuOr\") +\n",
        "  geom_bar(position = \"dodge\", stat = \"identity\") +\n",
        "  labs(fill = \"Missing\")"
      ],
      "id": "1de64d99-4be6-4991-b2da-40a99ff35e49"
    },
    {
      "cell_type": "code",
      "execution_count": null,
      "metadata": {},
      "outputs": [],
      "source": [
        "parameters_CI <- as.data.frame(t(data.frame(pars)))\n",
        "for (i in 1:nrow(parameters_CI)) {\n",
        "  name <- row.names(parameters_CI)[i]\n",
        "  parameters_CI$censored[i] <- str_detect(name, \"sM\")\n",
        "  parameters_CI$model_name[i] <- str_extract(name, \"LBA|LNR|RDM\")\n",
        "  parameters_CI$percentage[i] <- str_extract(name, \"70|90|975\")\n",
        "  parameters_CI$parameter[i] <- sub(\".*\\\\.\", \"\", name)\n",
        "  parameters_CI$true_parameter[i] <- \n",
        "    get(paste0(\"pars\", parameters_CI$model_name[i]), envir = globalenv())[parameters_CI$parameter[i]]\n",
        "}\n",
        "\n",
        "parameters_CI$percentage <- factor(parameters_CI$percentage, c(975, 90, 70), c(\"2.5%\", \"10%\", \"30%\"))\n",
        "parameters_CI$censored <- factor(parameters_CI$censored, c(TRUE, FALSE), c(\"Censored\", \"Truncated\"))"
      ],
      "id": "7f123cc3-9bf8-4c10-9489-60895831f884"
    },
    {
      "cell_type": "code",
      "execution_count": null,
      "metadata": {
        "apa-note": "Race model recoveries separated by model (LBA, LNR and RDM) and censoring vs truncation. Especially the LBA and LNR parameters are on the identity line for censoring, but off the line for truncation. "
      },
      "outputs": [
        {
          "output_type": "display_data",
          "metadata": {},
          "data": {}
        }
      ],
      "source": [
        "#| label: upper_censoring_recoveries\n",
        "#| fig-cap: \"Upper Censored / Truncated Recoveries at Different Levels\"\n",
        "#| fig-alt: \"\"\n",
        "#| apa-note: \"Race model recoveries separated by model (LBA, LNR and RDM) and censoring vs truncation. Especially the LBA and LNR parameters are on the identity line for censoring, but off the line for truncation. \"\n",
        "\n",
        "# Use recovery.emc {EMC2} to plot recoveries of a single EMC fit\n",
        "ggplot(parameters_CI, aes(true_parameter, `50%`, color = percentage)) +\n",
        "  geom_point() +\n",
        "  geom_abline() +\n",
        "  geom_errorbar(aes(ymin = `2.5%`, ymax = `97.5%`)) +\n",
        "  facet_grid(censored ~ model_name, scales = \"free_y\") +\n",
        "  # scale_color_brewer(palette = \"YlOrRd\") +\n",
        "  ylab(\"Estimated Parameters\") +\n",
        "  xlab(\"True Parameters\")"
      ],
      "id": "6e0a67ba-8c9e-4e65-ba94-1818e3178aff"
    },
    {
      "cell_type": "markdown",
      "metadata": {},
      "source": [
        "# Censoring Both"
      ],
      "id": "c7a83442-52fd-45ef-b919-8a4f74464b9b"
    },
    {
      "cell_type": "code",
      "execution_count": null,
      "metadata": {},
      "outputs": [],
      "source": [
        "file_names <- list.files(\"../01_simulation/censoring_both/EMCs\")\n",
        "EMCs <- data.frame()\n",
        "for (i in file_names){\n",
        "  load(paste0(\"../01_simulation/censoring_both/EMCs/\", i))\n",
        "  EMC <- data.frame(EMC = str_remove(i, \".RData\"),\n",
        "                    censoring = str_detect(i, \"sM\"),\n",
        "                    model_name = str_extract(i, \"LBA|LNR|RDM\"),\n",
        "                    tail = str_extract(i, \"lower|upper|both\"),\n",
        "                    percentage = str_extract(i, \"2|10|30|50\"),\n",
        "                    response_known = !str_detect(i, \"unknown\")\n",
        "                    )\n",
        "  assign(EMC$EMC, s)\n",
        "  EMCs <- rbind(EMCs, EMC)\n",
        "}\n",
        "\n",
        "EMCs$censoring <- factor(EMCs$censoring, c(FALSE, TRUE),\n",
        "                         c(\"Truncated\", \"Censored\"))\n",
        "EMCs$model_name <- factor(EMCs$model_name)\n",
        "EMCs$response_known <- factor(EMCs$response_known, c(FALSE, TRUE),\n",
        "                              c(\"unknown\", \"known\"))"
      ],
      "id": "a1c3722b-a121-4f4e-8278-759cd7b40472"
    },
    {
      "cell_type": "code",
      "execution_count": null,
      "metadata": {},
      "outputs": [],
      "source": [
        "EMCs_expanded <- data.frame()\n",
        "\n",
        "for (i in 1:nrow(EMCs)) {\n",
        "  # Retrieve the EMC object for the current row\n",
        "  emc_data <- get(EMCs$EMC[i], envir = globalenv())\n",
        "  \n",
        "  # Extract parameter data (excluding the first column which represents subjects)\n",
        "  parameter_data <- parameters(emc_data, selection = \"alpha\")[, -1]\n",
        "  subject_ids <- parameters(emc_data, selection = \"alpha\")[, 1]  # Subject column\n",
        "  \n",
        "  # Get the list of parameter names\n",
        "  parameter_names <- colnames(parameter_data)\n",
        "  \n",
        "  # Split data by subject\n",
        "  split_data <- split(parameter_data, subject_ids)\n",
        "  \n",
        "  # Compute quantiles and add rows per parameter and subject\n",
        "  for (subject in names(split_data)) {\n",
        "    subject_data <- split_data[[subject]]\n",
        "    \n",
        "    # Compute quantiles for each parameter\n",
        "    subject_quantiles <- apply(subject_data, 2, function(x) quantile(x, c(0.25, 0.5, 0.75), na.rm = T))\n",
        "    \n",
        "    # Add a row for each parameter\n",
        "    for (param in parameter_names) {\n",
        "      EMCs_expanded <- rbind(EMCs_expanded, data.frame(\n",
        "        EMC = EMCs$EMC[i],\n",
        "        model_name = EMCs$model_name[i],\n",
        "        censoring = EMCs$censoring[i],\n",
        "        tail = EMCs$tail[i],\n",
        "        percentage = EMCs$percentage[i],\n",
        "        response_known = EMCs$response_known[i],\n",
        "        subject = subject,\n",
        "        parameter_name = param,\n",
        "        q25 = subject_quantiles[1, param],\n",
        "        Median = subject_quantiles[2, param],\n",
        "        q75 = subject_quantiles[3, param],\n",
        "        true_parameter = get(paste0(\"pars\", EMCs$model_name[i]), envir = globalenv())[param]\n",
        "      ))\n",
        "    }\n",
        "  }\n",
        "}"
      ],
      "id": "38eae7e9-b114-41db-9e1c-c377485738b7"
    },
    {
      "cell_type": "code",
      "execution_count": null,
      "metadata": {},
      "outputs": [
        {
          "output_type": "stream",
          "name": "stderr",
          "text": [
            "Warning: Removed 9 rows containing missing values or values outside the scale range\n",
            "(`geom_point()`)."
          ]
        },
        {
          "output_type": "display_data",
          "metadata": {},
          "data": {
            "image/png": "[encoded data removed]"
          }
        }
      ],
      "source": [
        "EMCs_expanded$percentage <- as.numeric(EMCs_expanded$percentage)\n",
        "EMCs_expanded %>%\n",
        "  ggplot(aes(true_parameter, Median, color = subject)) +\n",
        "  geom_point(size = 0.1) +\n",
        "  geom_abline() +\n",
        "  facet_grid(tail + percentage ~ model_name + censoring, scales = \"free_y\") +\n",
        "  geom_errorbar(aes(ymin = q25, ymax = q75))"
      ],
      "id": "513fdc9e-b0a4-4582-be89-4849585964ce"
    },
    {
      "cell_type": "code",
      "execution_count": null,
      "metadata": {},
      "outputs": [
        {
          "output_type": "stream",
          "name": "stdout",
          "text": [
            "[1]  TRUE FALSE FALSE FALSE  TRUE  TRUE"
          ]
        }
      ],
      "source": [
        "between(parsLBA, EMCs_expanded$q25[EMCs_expanded$EMC == \"sMLBAlower2known\"][1:6], EMCs_expanded$q75[EMCs_expanded$EMC == \"sMLBAlower2known\"][1:6])"
      ],
      "id": "698f168c-74d4-4c4e-9503-b72aa963c574"
    },
    {
      "cell_type": "code",
      "execution_count": null,
      "metadata": {},
      "outputs": [],
      "source": [
        "# Calculate RMSE per group\n",
        "EMCs_RMSEs <- EMCs_expanded %>%\n",
        "  group_by(subject, EMC, percentage, response_known, \n",
        "           tail, censoring, model_name) %>%\n",
        "  summarise(\n",
        "    RMSE = sqrt(mean((Median - true_parameter)^2)),  # Calculate RMSE\n",
        "    .groups = 'drop'  # Ungroup after summarizing\n",
        "  )"
      ],
      "id": "2c81477e-892a-4454-9d2d-37cce76b5ab1"
    },
    {
      "cell_type": "code",
      "execution_count": null,
      "metadata": {},
      "outputs": [
        {
          "output_type": "stream",
          "name": "stdout",
          "text": [
            "                                                      Df Sum Sq Mean Sq F value\n",
            "percentage                                             1  39.74   39.74 786.596\n",
            "response_known                                         1   0.26    0.26   5.058\n",
            "tail                                                   2   7.63    3.81  75.479\n",
            "censoring                                              1  18.08   18.08 357.993\n",
            "model_name                                             2  81.76   40.88 809.211\n",
            "percentage:response_known                              1   0.33    0.33   6.611\n",
            "percentage:tail                                        2   0.38    0.19   3.737\n",
            "response_known:tail                                    2   0.46    0.23   4.575\n",
            "percentage:censoring                                   1   1.50    1.50  29.694\n",
            "response_known:censoring                               1   0.43    0.43   8.511\n",
            "tail:censoring                                         2  13.31    6.66 131.753\n",
            "percentage:model_name                                  2  15.96    7.98 157.956\n",
            "response_known:model_name                              2   1.62    0.81  16.070\n",
            "tail:model_name                                        4   6.78    1.69  33.530\n",
            "censoring:model_name                                   2   0.21    0.11   2.118\n",
            "percentage:response_known:tail                         2   0.66    0.33   6.533\n",
            "percentage:response_known:censoring                    1   0.56    0.56  11.016\n",
            "percentage:tail:censoring                              2   4.01    2.00  39.686\n",
            "response_known:tail:censoring                          2   0.28    0.14   2.723\n",
            "percentage:response_known:model_name                   2   1.68    0.84  16.670\n",
            "percentage:tail:model_name                             4   2.21    0.55  10.939\n",
            "response_known:tail:model_name                         4   1.26    0.32   6.258\n",
            "percentage:censoring:model_name                        2   3.13    1.57  31.012\n",
            "response_known:censoring:model_name                    2   1.67    0.83  16.480\n",
            "tail:censoring:model_name                              4  14.23    3.56  70.406\n",
            "percentage:response_known:tail:censoring               2   0.71    0.35   7.014\n",
            "percentage:response_known:tail:model_name              4   1.39    0.35   6.873\n",
            "percentage:response_known:censoring:model_name         2   1.93    0.96  19.068\n",
            "percentage:tail:censoring:model_name                   4   4.75    1.19  23.504\n",
            "response_known:tail:censoring:model_name               4   0.94    0.23   4.650\n",
            "percentage:response_known:tail:censoring:model_name    4   1.67    0.42   8.265\n",
            "Residuals                                           1359  68.65    0.05        \n",
            "                                                      Pr(>F)    \n",
            "percentage                                           < 2e-16 ***\n",
            "response_known                                      0.024668 *  \n",
            "tail                                                 < 2e-16 ***\n",
            "censoring                                            < 2e-16 ***\n",
            "model_name                                           < 2e-16 ***\n",
            "percentage:response_known                           0.010243 *  \n",
            "percentage:tail                                     0.024073 *  \n",
            "response_known:tail                                 0.010468 *  \n",
            "percentage:censoring                                6.00e-08 ***\n",
            "response_known:censoring                            0.003588 ** \n",
            "tail:censoring                                       < 2e-16 ***\n",
            "percentage:model_name                                < 2e-16 ***\n",
            "response_known:model_name                           1.26e-07 ***\n",
            "tail:model_name                                      < 2e-16 ***\n",
            "censoring:model_name                                0.120615    \n",
            "percentage:response_known:tail                      0.001501 ** \n",
            "percentage:response_known:censoring                 0.000927 ***\n",
            "percentage:tail:censoring                            < 2e-16 ***\n",
            "response_known:tail:censoring                       0.066065 .  \n",
            "percentage:response_known:model_name                7.04e-08 ***\n",
            "percentage:tail:model_name                          9.87e-09 ***\n",
            "response_known:tail:model_name                      5.46e-05 ***\n",
            "percentage:censoring:model_name                     6.76e-14 ***\n",
            "response_known:censoring:model_name                 8.48e-08 ***\n",
            "tail:censoring:model_name                            < 2e-16 ***\n",
            "percentage:response_known:tail:censoring            0.000932 ***\n",
            "percentage:response_known:tail:model_name           1.78e-05 ***\n",
            "percentage:response_known:censoring:model_name      6.81e-09 ***\n",
            "percentage:tail:censoring:model_name                 < 2e-16 ***\n",
            "response_known:tail:censoring:model_name            0.000990 ***\n",
            "percentage:response_known:tail:censoring:model_name 1.38e-06 ***\n",
            "Residuals                                                       \n",
            "---\n",
            "Signif. codes:  0 '***' 0.001 '**' 0.01 '*' 0.05 '.' 0.1 ' ' 1\n",
            "9 observations deleted due to missingness"
          ]
        }
      ],
      "source": [
        "big_model <- aov(RMSE ~ percentage * response_known *\n",
        "           tail * censoring * model_name, data = EMCs_RMSEs)\n",
        "\n",
        "summary(big_model)"
      ],
      "id": "023e4337-6b2e-463a-a3fa-14f2367fb29e"
    },
    {
      "cell_type": "code",
      "execution_count": null,
      "metadata": {
        "apa-note": "For each model, the RMSE was computed over all subject fits."
      },
      "outputs": [
        {
          "output_type": "display_data",
          "metadata": {},
          "data": {}
        }
      ],
      "source": [
        "#| label: RMSD_both\n",
        "#| fig-cap: Root Mean Squared Errors in each condition\n",
        "#| apa-note: For each model, the RMSE was computed over all subject fits.\n",
        "\n",
        "na.omit(EMCs_RMSEs) %>%\n",
        "  ggplot(aes(censoring, RMSE, fill = interaction(percentage, censoring, sep = \"% \"))) +\n",
        "  facet_grid(tail + response_known ~ model_name) +\n",
        "  scale_fill_brewer(palette = \"PuOr\") +\n",
        "  stat_summary(position = \"dodge\", geom = \"bar\", fun = \"mean\") +\n",
        "  labs(fill = \"Missing\")"
      ],
      "id": "b4286b9d-1642-4af8-b9ee-561ed645db75"
    }
  ],
  "nbformat": 4,
  "nbformat_minor": 5,
  "metadata": {
    "kernelspec": {
      "display_name": "Python 3",
      "language": "python",
      "name": "python3"
    }
  }
}